{
  "nbformat": 4,
  "nbformat_minor": 0,
  "metadata": {
    "colab": {
      "provenance": [],
      "gpuType": "T4"
    },
    "kernelspec": {
      "name": "python3",
      "display_name": "Python 3"
    },
    "language_info": {
      "name": "python"
    },
    "accelerator": "GPU"
  },
  "cells": [
    {
      "cell_type": "markdown",
      "source": [
        "Sentence Embeddings"
      ],
      "metadata": {
        "id": "CBAJ2xXOuW2A"
      }
    },
    {
      "cell_type": "code",
      "execution_count": 86,
      "metadata": {
        "id": "HZq-_3SRfJyO"
      },
      "outputs": [],
      "source": [
        "# !pip install sentence-transformers"
      ]
    },
    {
      "cell_type": "code",
      "source": [
        "from transformers.utils import logging\n",
        "logging.set_verbosity_error()\n",
        "import torch\n",
        "from transformers import pipeline\n",
        "from sentence_transformers import util\n",
        "from transformers import AutoTokenizer, AutoModelForSeq2SeqLM\n",
        "from sentence_transformers import SentenceTransformer"
      ],
      "metadata": {
        "id": "pe2hoPZaufNB"
      },
      "execution_count": 87,
      "outputs": []
    },
    {
      "cell_type": "code",
      "source": [
        "model = SentenceTransformer(\"all-MiniLM-L6-v2\")"
      ],
      "metadata": {
        "id": "SrIb6lP3uj6X"
      },
      "execution_count": 88,
      "outputs": []
    },
    {
      "cell_type": "code",
      "source": [
        "sentences1 = [\n",
        "    \"That is a happy person\",\n",
        "    \"That is a happy dog\",\n",
        "    \"That is a very happy person\",\n",
        "    \"Today is a sunny day\"\n",
        "]\n",
        "embeddings1 = model.encode(sentences1, convert_to_tensor=True)"
      ],
      "metadata": {
        "id": "g6kCvCd93Joz"
      },
      "execution_count": 89,
      "outputs": []
    },
    {
      "cell_type": "code",
      "source": [
        "sentences1"
      ],
      "metadata": {
        "colab": {
          "base_uri": "https://localhost:8080/"
        },
        "id": "Vh_btWco50im",
        "outputId": "03bb5a30-b053-4757-acab-c0af1ffb4f9e"
      },
      "execution_count": 90,
      "outputs": [
        {
          "output_type": "execute_result",
          "data": {
            "text/plain": [
              "['That is a happy person',\n",
              " 'That is a happy dog',\n",
              " 'That is a very happy person',\n",
              " 'Today is a sunny day']"
            ]
          },
          "metadata": {},
          "execution_count": 90
        }
      ]
    },
    {
      "cell_type": "code",
      "source": [
        "print(embeddings1)"
      ],
      "metadata": {
        "colab": {
          "base_uri": "https://localhost:8080/"
        },
        "id": "sA4QG277F4KG",
        "outputId": "b7b29377-6f11-440d-c84e-a1869441f3da"
      },
      "execution_count": 91,
      "outputs": [
        {
          "output_type": "stream",
          "name": "stdout",
          "text": [
            "tensor([[-0.0339,  0.0919,  0.0487,  ..., -0.0144, -0.0275,  0.0448],\n",
            "        [ 0.0050,  0.0632,  0.0142,  ...,  0.0404,  0.0758,  0.0909],\n",
            "        [-0.0025,  0.0915,  0.0484,  ..., -0.0264, -0.0753,  0.0280],\n",
            "        [-0.0163,  0.1041,  0.0974,  ...,  0.0068, -0.0879,  0.0340]],\n",
            "       device='cuda:0')\n"
          ]
        }
      ]
    },
    {
      "cell_type": "code",
      "source": [
        "sentences2 = ['The dog plays in the garden',\n",
        "              'A woman watches TV',\n",
        "              'The new movie is so great',\n",
        "              'Today is a sunny day']"
      ],
      "metadata": {
        "id": "TBuylTLqBVZR"
      },
      "execution_count": 92,
      "outputs": []
    },
    {
      "cell_type": "code",
      "source": [
        "embeddings2 = model.encode(sentences2,\n",
        "                           convert_to_tensor=True)"
      ],
      "metadata": {
        "id": "huogf28Q_PGu"
      },
      "execution_count": 93,
      "outputs": []
    },
    {
      "cell_type": "code",
      "source": [
        "sentences2"
      ],
      "metadata": {
        "colab": {
          "base_uri": "https://localhost:8080/"
        },
        "id": "Mp_L6mPIF_RT",
        "outputId": "4197aaf9-c59d-49dd-90c2-19eb2fafaecf"
      },
      "execution_count": 94,
      "outputs": [
        {
          "output_type": "execute_result",
          "data": {
            "text/plain": [
              "['The dog plays in the garden',\n",
              " 'A woman watches TV',\n",
              " 'The new movie is so great',\n",
              " 'Today is a sunny day']"
            ]
          },
          "metadata": {},
          "execution_count": 94
        }
      ]
    },
    {
      "cell_type": "code",
      "source": [
        "print(embeddings2)"
      ],
      "metadata": {
        "colab": {
          "base_uri": "https://localhost:8080/"
        },
        "id": "1i4NzqlA_ZYz",
        "outputId": "6d2965d7-ee13-48fc-e589-c8c753c888b0"
      },
      "execution_count": 95,
      "outputs": [
        {
          "output_type": "stream",
          "name": "stdout",
          "text": [
            "tensor([[ 0.0163, -0.0700,  0.0384,  ...,  0.0447,  0.0254, -0.0023],\n",
            "        [ 0.0054, -0.0920,  0.0140,  ...,  0.0167, -0.0086, -0.0424],\n",
            "        [-0.0842, -0.0592, -0.0010,  ..., -0.0157,  0.0764,  0.0389],\n",
            "        [-0.0163,  0.1041,  0.0974,  ...,  0.0068, -0.0879,  0.0340]],\n",
            "       device='cuda:0')\n"
          ]
        }
      ]
    },
    {
      "cell_type": "code",
      "source": [
        "sentences3 = ['The cat sits outside',\n",
        "              'A man is playing guitar',\n",
        "              'The movies are awesome',\n",
        "              'Today is a very wendy day']"
      ],
      "metadata": {
        "id": "CHsCHSZk_boD"
      },
      "execution_count": 96,
      "outputs": []
    },
    {
      "cell_type": "code",
      "source": [
        "embeddings3 = model.encode(sentences3, convert_to_tensor=True)"
      ],
      "metadata": {
        "id": "pMD1-MlO_fNT"
      },
      "execution_count": 97,
      "outputs": []
    },
    {
      "cell_type": "code",
      "source": [
        "sentences3"
      ],
      "metadata": {
        "colab": {
          "base_uri": "https://localhost:8080/"
        },
        "id": "gp_wqqk8GIu8",
        "outputId": "217ccf56-934b-4892-927e-99a8c65a226d"
      },
      "execution_count": 98,
      "outputs": [
        {
          "output_type": "execute_result",
          "data": {
            "text/plain": [
              "['The cat sits outside',\n",
              " 'A man is playing guitar',\n",
              " 'The movies are awesome',\n",
              " 'Today is a very wendy day']"
            ]
          },
          "metadata": {},
          "execution_count": 98
        }
      ]
    },
    {
      "cell_type": "code",
      "source": [
        "embeddings3"
      ],
      "metadata": {
        "colab": {
          "base_uri": "https://localhost:8080/"
        },
        "id": "aET7YCM4GGSE",
        "outputId": "e3bc4420-febf-4966-8259-883488bd882a"
      },
      "execution_count": 99,
      "outputs": [
        {
          "output_type": "execute_result",
          "data": {
            "text/plain": [
              "tensor([[ 0.1392,  0.0030,  0.0470,  ...,  0.0641, -0.0163,  0.0636],\n",
              "        [ 0.0227, -0.0014, -0.0056,  ..., -0.0225,  0.0846, -0.0283],\n",
              "        [-0.1043, -0.0628,  0.0093,  ...,  0.0020,  0.0653, -0.0150],\n",
              "        [-0.0471,  0.0638,  0.0858,  ..., -0.0245, -0.0085,  0.0293]],\n",
              "       device='cuda:0')"
            ]
          },
          "metadata": {},
          "execution_count": 99
        }
      ]
    },
    {
      "cell_type": "code",
      "source": [
        "similarities = model.similarity(embeddings1, embeddings2)\n",
        "print(similarities.shape)\n"
      ],
      "metadata": {
        "colab": {
          "base_uri": "https://localhost:8080/"
        },
        "id": "z00GA7sYGR8S",
        "outputId": "068fd4e1-721b-480b-808b-ad134a1bff3c"
      },
      "execution_count": 100,
      "outputs": [
        {
          "output_type": "stream",
          "name": "stdout",
          "text": [
            "torch.Size([4, 4])\n"
          ]
        }
      ]
    },
    {
      "cell_type": "code",
      "source": [
        "similarities = model.similarity(embeddings2, embeddings3)\n",
        "print(similarities.shape)\n"
      ],
      "metadata": {
        "colab": {
          "base_uri": "https://localhost:8080/"
        },
        "id": "XjC6hMrfGSvb",
        "outputId": "077e95bb-0fa6-40a9-e864-4abc45fd4d06"
      },
      "execution_count": 101,
      "outputs": [
        {
          "output_type": "stream",
          "name": "stdout",
          "text": [
            "torch.Size([4, 4])\n"
          ]
        }
      ]
    },
    {
      "cell_type": "code",
      "source": [
        "similarities = model.similarity(embeddings1, embeddings3)\n",
        "print(similarities.shape)"
      ],
      "metadata": {
        "colab": {
          "base_uri": "https://localhost:8080/"
        },
        "id": "YWlsLZ_GGbCw",
        "outputId": "931b7626-189f-4429-9e6d-e2804a268fff"
      },
      "execution_count": 102,
      "outputs": [
        {
          "output_type": "stream",
          "name": "stdout",
          "text": [
            "torch.Size([4, 4])\n"
          ]
        }
      ]
    },
    {
      "cell_type": "markdown",
      "source": [
        "Using the cosine similarity between two sentences as a measure of how similar they are to each other."
      ],
      "metadata": {
        "id": "hFzD6mkeGdJQ"
      }
    },
    {
      "cell_type": "code",
      "source": [
        "cosine_scores1 = util.cos_sim(embeddings1,embeddings2)\n",
        "cosine_scores2 = util.cos_sim(embeddings2,embeddings3)\n",
        "cosine_scores3 = util.cos_sim(embeddings1,embeddings3)"
      ],
      "metadata": {
        "id": "1JmXcqa3GhfA"
      },
      "execution_count": 103,
      "outputs": []
    },
    {
      "cell_type": "code",
      "source": [
        "print(cosine_scores1)\n",
        "print(cosine_scores2)\n",
        "print(cosine_scores3)"
      ],
      "metadata": {
        "colab": {
          "base_uri": "https://localhost:8080/"
        },
        "id": "wezvQ0_LGlG4",
        "outputId": "c718774c-8148-4a2e-8276-285cba557e2f"
      },
      "execution_count": 104,
      "outputs": [
        {
          "output_type": "stream",
          "name": "stdout",
          "text": [
            "tensor([[-0.0404,  0.0218,  0.1238,  0.2569],\n",
            "        [ 0.2806, -0.0502,  0.2030,  0.2491],\n",
            "        [-0.0431,  0.0375,  0.1456,  0.2106],\n",
            "        [ 0.0981, -0.0091,  0.0929,  1.0000]], device='cuda:0')\n",
            "tensor([[ 0.2838,  0.2277, -0.0124,  0.0294],\n",
            "        [ 0.1310, -0.0327, -0.0465,  0.0065],\n",
            "        [-0.0029, -0.0136,  0.6571,  0.1349],\n",
            "        [ 0.1398, -0.0223,  0.0150,  0.4387]], device='cuda:0')\n",
            "tensor([[ 0.0663,  0.0535,  0.1545,  0.2494],\n",
            "        [ 0.1611,  0.0066,  0.1410,  0.2352],\n",
            "        [ 0.0401,  0.0483,  0.1621,  0.2389],\n",
            "        [ 0.1398, -0.0223,  0.0150,  0.4387]], device='cuda:0')\n"
          ]
        }
      ]
    },
    {
      "cell_type": "code",
      "source": [
        "for i in range(len(sentences1)):\n",
        "    print(\"{} \\t\\t {} \\t\\t Score: {:.4f}\".format(sentences1[i],\n",
        "                                                 sentences2[i],\n",
        "                                                 cosine_scores1[i][i]))"
      ],
      "metadata": {
        "colab": {
          "base_uri": "https://localhost:8080/"
        },
        "id": "4iVDXrcoGlwQ",
        "outputId": "f9d88e64-4751-41ff-82c5-bcc211a1ab40"
      },
      "execution_count": 105,
      "outputs": [
        {
          "output_type": "stream",
          "name": "stdout",
          "text": [
            "That is a happy person \t\t The dog plays in the garden \t\t Score: -0.0404\n",
            "That is a happy dog \t\t A woman watches TV \t\t Score: -0.0502\n",
            "That is a very happy person \t\t The new movie is so great \t\t Score: 0.1456\n",
            "Today is a sunny day \t\t Today is a sunny day \t\t Score: 1.0000\n"
          ]
        }
      ]
    },
    {
      "cell_type": "code",
      "source": [
        "for i in range(len(sentences1)):\n",
        "    print(\"{} \\t\\t {} \\t\\t Score: {:.4f}\".format(sentences2[i],\n",
        "                                                 sentences3[i],\n",
        "                                                 cosine_scores2[i][i]))"
      ],
      "metadata": {
        "colab": {
          "base_uri": "https://localhost:8080/"
        },
        "id": "kMADB3JzG1QG",
        "outputId": "886cbbf4-86b9-42fe-b836-4ee514f5ca5a"
      },
      "execution_count": 106,
      "outputs": [
        {
          "output_type": "stream",
          "name": "stdout",
          "text": [
            "The dog plays in the garden \t\t The cat sits outside \t\t Score: 0.2838\n",
            "A woman watches TV \t\t A man is playing guitar \t\t Score: -0.0327\n",
            "The new movie is so great \t\t The movies are awesome \t\t Score: 0.6571\n",
            "Today is a sunny day \t\t Today is a very wendy day \t\t Score: 0.4387\n"
          ]
        }
      ]
    },
    {
      "cell_type": "code",
      "source": [
        "for i in range(len(sentences1)):\n",
        "    print(\"{} \\t\\t {} \\t\\t Score: {:.4f}\".format(sentences1[i],\n",
        "                                                 sentences3[i],\n",
        "                                                 cosine_scores3[i][i]))"
      ],
      "metadata": {
        "colab": {
          "base_uri": "https://localhost:8080/"
        },
        "id": "U-RpUEFIG2BO",
        "outputId": "b7981596-9298-4ea9-c893-cadd2d24c578"
      },
      "execution_count": 107,
      "outputs": [
        {
          "output_type": "stream",
          "name": "stdout",
          "text": [
            "That is a happy person \t\t The cat sits outside \t\t Score: 0.0663\n",
            "That is a happy dog \t\t A man is playing guitar \t\t Score: 0.0066\n",
            "That is a very happy person \t\t The movies are awesome \t\t Score: 0.1621\n",
            "Today is a sunny day \t\t Today is a very wendy day \t\t Score: 0.4387\n"
          ]
        }
      ]
    },
    {
      "cell_type": "markdown",
      "source": [
        "Note that this is just a simple basics!"
      ],
      "metadata": {
        "id": "fl22cRFl3epg"
      }
    }
  ]
}